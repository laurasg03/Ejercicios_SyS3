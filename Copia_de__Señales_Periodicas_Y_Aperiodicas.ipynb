{
  "nbformat": 4,
  "nbformat_minor": 0,
  "metadata": {
    "colab": {
      "provenance": [],
      "include_colab_link": true
    },
    "kernelspec": {
      "name": "python3",
      "display_name": "Python 3"
    }
  },
  "cells": [
    {
      "cell_type": "markdown",
      "metadata": {
        "id": "view-in-github",
        "colab_type": "text"
      },
      "source": [
        "<a href=\"https://colab.research.google.com/github/laurasg03/Ejercicios_SyS3/blob/main/Copia_de__Sen%CC%83ales_Periodicas_Y_Aperiodicas.ipynb\" target=\"_parent\"><img src=\"https://colab.research.google.com/assets/colab-badge.svg\" alt=\"Open In Colab\"/></a>"
      ]
    },
    {
      "cell_type": "markdown",
      "metadata": {
        "id": "xQNc5VdvHCJ0"
      },
      "source": [
        "# Señales periódicas y aperiódicas\n",
        "\n",
        "Una señal análoga $x(t)$ es periódica si y sólo si se cumple la siguiente relación:\n",
        "\n",
        "$$\n",
        "x(t) = x(t\\pm T)\n",
        "$$\n",
        "\n",
        "Donde $T\\in \\mathbb{R}^+$ es único y el mínimo posible, conocido como el periódo fundamental de la función.\n",
        "\n",
        "En caso de no cumplirse la relación, la señal se denomina aperiódica.\n"
      ]
    },
    {
      "cell_type": "markdown",
      "metadata": {
        "id": "UYy2SsKLJ_M3"
      },
      "source": [
        "### Ejemplo 1\n",
        "\n",
        "Determine si la señal $x(t) = e^{j~wt}$, con $w = \\frac{2\\pi}{T}$ es periódica.\n",
        "\n",
        "$$\n",
        "x(t+T) =  e^{j~w(t+T)}\\\\\n",
        "x(t+T) =  e^{j~wt} \\cdot  e^{j~wT}\\\\\n",
        "x(t+T) =  e^{j~wt} \\cdot \\left(\\cos(wT)+j~\\sin(wT)\\right)\\\\\n",
        "x(t+T) =  e^{j~wt} \\cdot \\left(\\cos\\left(\\frac{2\\pi}{T}T\\right)+j~\\sin\\left(\\frac{2\\pi}{T}T\\right)\\right)\\\\\n",
        "x(t+T) =  e^{j~wt} \\cdot (1+j~0)\\\\\n",
        "x(t+T) = x(t)\n",
        "$$\n",
        "\n",
        "Por lo tanto, $x(t)$ es periódica con periodo $T = \\frac{2\\pi}{w}$.\n",
        "\n",
        "\n"
      ]
    },
    {
      "cell_type": "code",
      "metadata": {
        "id": "YE7u5jhUxOzX"
      },
      "source": [
        "from numpy import exp, pi, arange, real, imag, abs, angle, sqrt\n",
        "import matplotlib.pyplot as plt\n",
        "from matplotlib import animation, rc\n",
        "from IPython.display import HTML\n",
        "\n",
        "#figura interactiva para visualizar el concepto de periodicidad en el tiempo y en coordenadas polares\n",
        "fig = plt.figure(figsize=(10, 10))\n",
        "plt.close()\n",
        "ax1 = fig.add_axes([0.1, 0.5, 0.4, 0.4], polar = True)\n",
        "ax2 = fig.add_axes([0.1, 0.1, 0.4, 0.4])\n",
        "ax2.set_ylim([1, 0])\n",
        "ax2.set_xlim([-1, 1])\n",
        "ax2.grid()\n",
        "ax2.set_ylabel('Tiempo')\n",
        "ax2.set_xlabel('Eje Real')\n",
        "ax3 = fig.add_axes([0.5, 0.5, 0.4, 0.4])\n",
        "ax3.set_ylim([-1, 1])\n",
        "ax3.set_xlim([0, 1])\n",
        "ax3.grid()\n",
        "ax3.set_xlabel('Tiempo')\n",
        "ax3.yaxis.set_ticks_position('right')\n",
        "ax3.yaxis.set_label_position('right')\n",
        "ax3.set_ylabel('Eje Imaginario')\n",
        "ax4 = fig.add_axes([0.5, 0.1, 0.4, 0.4], projection='3d')\n",
        "ax4.set_ylim([-1, 1])\n",
        "ax4.set_xlim([-1, 1])\n",
        "ax4.set_zlim([0, 1])\n",
        "ax4.set_xlabel('Eje Real')\n",
        "ax4.set_ylabel('Eje Imaginario')\n",
        "ax4.set_zlabel('Tiempo')\n",
        "\n",
        "po, = ax1.plot(0, 1, 'ko')\n",
        "line = ax1.axvline(0, 0, 0.95)\n",
        "p1, = ax1.plot([], [])\n",
        "p2, = ax2.plot([], [])\n",
        "p3, = ax3.plot([], [])\n",
        "p4, = ax4.plot([], [], [])\n",
        "\n",
        "#función para gráfico interactivo\n",
        "def animate(i):\n",
        "    Ts = 0.01\n",
        "    t0 = i*Ts\n",
        "    t = arange(0, t0+Ts, Ts)\n",
        "    x = exp(1j*2*pi*t)\n",
        "    po.set_xdata(2*pi*t0)\n",
        "    line.set_xdata(2*pi*t0)\n",
        "    p1.set_data(angle(x), abs(x))\n",
        "    p2.set_data(real(x), t)\n",
        "    p3.set_data(t, imag(x))\n",
        "    p4.set_data_3d(real(x), imag(x), t)\n",
        "\n",
        "anim = animation.FuncAnimation(fig, animate, frames=100, interval=100, blit=False)\n",
        "rc('animation', html='jshtml')\n",
        "anim"
      ],
      "execution_count": null,
      "outputs": []
    },
    {
      "cell_type": "markdown",
      "metadata": {
        "id": "Sdsb285hNVZI"
      },
      "source": [
        "## Señal cuasiperiódica\n",
        "\n",
        "Corresponde a una función con un periodo fundamental relativamente largo. Estas señales se componen por dos o más señales periódicas.\n",
        "\n",
        "### Ejemplo 2\n",
        "\n",
        "Determine el periodo fundamental de la señal $x(t) = \\cos\\left(\\frac{t}{3}\\right)+\\cos\\left(\\frac{t}{4}\\right)$.\n",
        "\n",
        "$$\n",
        "x(t+T) = \\cos\\left(\\frac{t+T}{3}\\right)+\\cos\\left(\\frac{t+T}{4}\\right)\\\\\n",
        "x(t+T) = \\cos\\left(\\frac{t}{3}\\right)\\cdot \\cos\\left(\\frac{T}{3}\\right)-\\sin\\left(\\frac{t}{3}\\right)\\cdot \\sin\\left(\\frac{T}{3}\\right)+\\cos\\left(\\frac{t}{4}\\right)\\cdot \\cos\\left(\\frac{T}{4}\\right)-\\sin\\left(\\frac{t}{4}\\right)\\cdot \\sin\\left(\\frac{T}{4}\\right)\n",
        "$$\n",
        "\n",
        "La señal $x(t) = x(t+T)$ si:\n",
        "\n",
        "$$\n",
        "\\left\\{ \\begin{array}{l}\n",
        "             \\frac{T}{3} = 2\\pi k, ~~~ T = 6\\pi k\\\\\n",
        "             \\\\ \\frac{T}{4} = 2\\pi l, ~~~ T = 8\\pi l \\\\\n",
        "             \\end{array}\n",
        "   \\right.\n",
        "$$\n",
        "\n",
        "Con $k, l \\in \\mathbb{Z}$.\n",
        "\n",
        "Como el Mínimo Común Múltiplo (MCM) de 6 y 8 es 24, el periodo fundamental $T_0$ de la señal es entonces $24\\pi$."
      ]
    },
    {
      "cell_type": "code",
      "metadata": {
        "id": "Um5r2J6xGdaH"
      },
      "source": [
        "from numpy import cos\n",
        "t = arange(0, 72*pi, .1)\n",
        "plt.figure(1, (25, 10))\n",
        "x = cos(t/3) + cos(t/4)\n",
        "plt.plot(t, x)\n",
        "plt.grid()\n",
        "plt.margins(x=0)\n",
        "plt.xticks([0, 12*pi, 24*pi, 36*pi, 48*pi, 60*pi, 72*pi]\n",
        "           , [0, '$12\\pi$', '$24\\pi$', '$36\\pi$', '$48\\pi$', '$60\\pi$', '$72\\pi$'])\n",
        "plt.title('Gráfica señal $x(t)=cos(t/3)+cos(t/4)$', fontsize=15)\n",
        "plt.show()\n",
        "\n"
      ],
      "execution_count": null,
      "outputs": []
    },
    {
      "cell_type": "markdown",
      "metadata": {
        "id": "KFXOJFS_Gb0Y"
      },
      "source": [
        "Por lo tanto, generalizando las expresiones se tiene:\n",
        "\n",
        "$$\n",
        "x(t) = \\cos(w_1t)+\\cos(w_2t)\\\\\n",
        "x(t+T) = \\cos(w_1t+w_1T)+\\cos(w_2t+w_2T)\\\\\n",
        "x(t+T) = \\cos(w_1t)\\cdot \\cos(w_1T)-\\sin(w_1t)\\cdot \\sin(w_1T)+\\cos(w_2t)\\cdot \\cos(w_2T)-\\sin(w_2t)\\cdot \\sin(w_2T)\n",
        "$$\n",
        "\n",
        "Donde la señal sera periódica si:\n",
        "\n",
        "$$\n",
        "\\left\\{ \\begin{array}{l}\n",
        "             w_1T = 2\\pi k, ~~~ T = \\frac{2\\pi k}{w_1}\\\\\n",
        "             \\\\ w_2T = 2\\pi l, ~~~ T =\\frac{2\\pi l}{w_2} \\\\\n",
        "             \\end{array}\n",
        "   \\right.\n",
        "$$\n",
        "\n",
        "Con $k, l \\in \\mathbb{Z}$. Igualando terminos se tiene lo siguiente:\n",
        "\n",
        "$$\n",
        "\\frac{w_1}{w_2} = \\frac{k}{l}\n",
        "$$\n",
        "\n",
        "Lo que indica que la señal $x(t)$ es periódica si la relación $\\frac{w_1}{w_2} \\in \\mathbb{Q}$.\n",
        "\n",
        "Dado lo anterior, la señal $x(t) = \\sin(\\pi t)+\\sin(\\sqrt{2}t),$ donde $w_1 = \\pi$ y $w_2 = \\sqrt{2},$ no es periódica porque la relación $\\frac{w_1}{w_2} = \\frac{\\pi}{\\sqrt{2}} \\notin \\mathbb{Q}$."
      ]
    },
    {
      "cell_type": "code",
      "metadata": {
        "id": "WENwiWS5K21V"
      },
      "source": [
        "from numpy import sin, sqrt, cos\n",
        "t = arange(0, 50, .01)\n",
        "plt.figure(1, (25, 10))\n",
        "x = sin(pi*t) + sin(sqrt(2)*t)\n",
        "plt.plot(t, x)\n",
        "plt.grid()\n",
        "plt.margins(x=0)\n",
        "plt.title('Gráfica señal $x(t) = sen(\\pi t)+sen(\\sqrt{2}t)$', fontsize=15)\n",
        "plt.show()"
      ],
      "execution_count": null,
      "outputs": []
    },
    {
      "cell_type": "markdown",
      "metadata": {
        "id": "Tc1PBb0xWDo4"
      },
      "source": [
        "## Periodicidad en señales discretas\n",
        "\n",
        "Para el caso de señales discretas, la relación de periodicidad está dada por:\n",
        "\n",
        "$$\n",
        "x[n] = x[n+N], ~~~ N \\in \\mathbb{Z}\n",
        "$$\n",
        "\n",
        "Donde el mínimo valor de $N$ en el cual la relación se cumple se denomina periodo fundamental. En el caso de no cumplirse la relación, la señal discreta será aperiódica.\n",
        "\n",
        "### Ejemplo 3\n",
        "\n",
        "Determine si $x[n] = \\cos[wn]$ es periodica.\n",
        "\n",
        "$$\n",
        "x[n] = x[n+N]\\\\\n",
        "x[n] =\\cos[w(n+N)]\\\\\n",
        "x[n] = \\cos[wn]\\cdot \\cos[wN]-\\sin[wn]\\cdot \\sin[wN]\n",
        "$$\n",
        "\n",
        "La relación se cumple si $\\cos[wN] = 1$ y $\\sin[wN] = 0$, es decir:\n",
        "\n",
        "$$\n",
        "wN = 2\\pi fN = 2\\pi k, ~~~ k \\in \\mathbb{Z}\n",
        "$$\n",
        "\n",
        "Despejando $f$,\n",
        "\n",
        "$$\n",
        "f = \\frac{k}{N}, ~~~ k, N \\in \\mathbb{Z}\n",
        "$$\n",
        "\n",
        "Por lo tanto, una señal sinusoidal discreta es periódica si y sólo si su frecuencia $f$ es un número racional.\n",
        "\n",
        "$$\n",
        "f \\in \\mathbb{Q}\n",
        "$$\n",
        "\n",
        "La señal $\\cos[\\frac{\\pi}{3}n]$ es periódica debido a que su frecuencia $f$ es igual a $\\frac{1}{6} \\in \\mathbb{Q}$."
      ]
    },
    {
      "cell_type": "code",
      "metadata": {
        "id": "h8kqz1eZLw7i"
      },
      "source": [
        "n = arange(0, 25)\n",
        "plt.figure(1, (25, 10))\n",
        "x = cos(n*pi/6)\n",
        "plt.stem(n, x)\n",
        "plt.grid()\n",
        "plt.margins(x=.01)\n",
        "plt.title('Gráfica señal $x[n] = cos[n\\pi/3]$', fontsize=15)\n",
        "plt.xticks([0, 6, 12, 18, 24], [0, '$N$ = 6 muestras', '$2N$', '$3N$', '$4N$'])\n",
        "plt.show()"
      ],
      "execution_count": null,
      "outputs": []
    },
    {
      "cell_type": "markdown",
      "metadata": {
        "id": "N1wwartA_A4O"
      },
      "source": [
        "### Ejercicio\n",
        "\n",
        "El siguiente bloque de código permite graficar las primeras 50 muestras de la señal $x[n] = cos[2\\pi fn]$ para diferentes valores de $f$.\n",
        "\n",
        "Saque sus propias conclusiones de cómo afecta el valor de la frecuencia el periodo de la señal discreta."
      ]
    },
    {
      "cell_type": "code",
      "metadata": {
        "id": "DVu0FRhDyJZ8"
      },
      "source": [
        "import ipywidgets\n",
        "def senial(f):\n",
        "\n",
        "  n = arange(0, 50)\n",
        "  plt.figure(1, (25, 10))\n",
        "  x = cos(2*pi*f*n)\n",
        "  plt.stem(n, x, use_line_collection=True)\n",
        "  plt.grid()\n",
        "  plt.margins(x=.01)\n",
        "  plt.title('Gráfica de la señal $x[n] = cos(2\\pi \\cdot {} \\cdot n)$'.format(f), fontsize=15)\n",
        "  plt.xlabel('Muestras')\n",
        "  plt.show()\n",
        "display(ipywidgets.interactive(senial, f=ipywidgets.FloatText(value=0, step=.1, description='Valor de f:')))"
      ],
      "execution_count": null,
      "outputs": []
    },
    {
      "cell_type": "markdown",
      "source": [
        "Respuesta: podemos notar que cuando la frecuencia se acerca mucho a un número entero, ya sea ligeramente por encima o por debajo de ese número, es más fácil ver claramente la forma de la señal del coseno. Esto ocurre, por ejemplo, cuando la frecuencia se aproxima a valores como 0.1 o 0.2,o  0.8 o 0.9. Esto siempre se cumple de acuerdo con el teorema de Nyquist. Sin embargo, cuando la frecuencia llega a un número entero o a un número entero más 1/2, la señal se distorsiona."
      ],
      "metadata": {
        "id": "d7emitb0slDk"
      }
    },
    {
      "cell_type": "markdown",
      "source": [
        "# Ejemplo\n",
        "\n",
        "- Determine si la siguiente señal es cuasiperiódica. En caso de que sea cuasiperiódica, gráfique la señal en el intervalo $t\\in[-2T,2T]$.\n",
        "\n",
        "$$x(t)=3\\sin(4t) -2\\cos(50t) + 2 \\cos(10t)$$\n",
        "\n",
        "$$\\omega_1 = 4 = \\frac{2\\pi}{T_1} \\to T_1 = \\frac{2\\pi}{4} = \\frac{\\pi}{2}$$\n",
        "\n",
        "$$\\omega_2 = 50 = \\frac{2\\pi}{T_2} \\to T_2 = \\frac{2\\pi}{50} = \\frac{\\pi}{25}$$\n",
        "\n",
        "$$\\omega_3 = 10 = \\frac{2\\pi}{T_3} \\to T_3 = \\frac{2\\pi}{10} = \\frac{\\pi}{5}$$\n",
        "\n",
        "$$\n",
        "\\left\\{ \\begin{array}{l}\n",
        "             \\omega_1T = 2\\pi k  \\\\\n",
        "             \\omega_2T = = 2\\pi l\\\\\n",
        "             \\omega_3T = = 2\\pi r\n",
        "             \\end{array}\n",
        "   \\right.\n",
        "$$\n",
        "donde $k,l,r\\in\\mathbb{Z}.$\n",
        "\n",
        "Teniendo en cuenta que $\\omega_1 T = \\frac{2\\pi}{T_1}T$\n",
        "\n",
        "$$T = kT_1 = lT_2 = r T_3$$\n",
        "\n",
        "$$T = k \\frac{\\pi}{2} = l \\frac{\\pi}{25} = r \\frac{\\pi}{5}$$\n",
        "\n",
        "Para facilitar el análisis y la búsqueda del mínimo común múltiplo (MCM):\n",
        "\n",
        "$$\\frac{50}{\\pi}T = k 25 = l 2 = r 10$$\n",
        "\n",
        "Ahora, el MCM(25;2;10) = 50. Entonces:\n",
        "\n",
        "$$k = 2; l = 25; r = 5.$$\n",
        "\n",
        "Reemplazando:\n",
        "\n",
        "$$\\frac{50}{\\pi}T = 2 (25) = 25 (2) = 5 (10) = 50$$\n",
        "\n",
        "$$ T = \\pi $$\n",
        "\n"
      ],
      "metadata": {
        "id": "dVvmrTWubYL2"
      }
    },
    {
      "cell_type": "code",
      "source": [
        "import numpy as np\n",
        "# simulación\n",
        "\n",
        "T1 = np.pi/2\n",
        "T2 = np.pi/25\n",
        "T3 = np.pi/5\n",
        "T = np.pi #según lo cálculado\n",
        "\n",
        "F1 = 1/T1\n",
        "F2 = 1/T2\n",
        "F3 = 1/T3\n",
        "\n",
        "Fmax = np.max(np.array([F1,F2,F3]))\n",
        "Fs = 10*Fmax\n",
        "print('Fmax=',Fmax,'Fs=',Fs,'T=',T)"
      ],
      "metadata": {
        "id": "Ka_tWMuvnIMv",
        "outputId": "aea7bcbf-bb21-4f34-dd6f-896104995ba6",
        "colab": {
          "base_uri": "https://localhost:8080/"
        }
      },
      "execution_count": null,
      "outputs": [
        {
          "output_type": "stream",
          "name": "stdout",
          "text": [
            "Fmax= 7.957747154594767 Fs= 79.57747154594767 T= 3.141592653589793\n"
          ]
        }
      ]
    },
    {
      "cell_type": "code",
      "source": [
        "ti = -2*T\n",
        "tf = 2*T #intervalo de tiempo a graficar\n",
        "tv = np.arange(ti,tf,1/Fs)\n",
        "xv = 3*np.sin(4*tv) - 2*np.cos(50*tv) + 2*np.cos(10*tv)\n",
        "\n",
        "plt.plot(tv,xv)\n",
        "plt.xlabel('t [s]')\n",
        "plt.ylabel('x(t)')\n",
        "plt.show()"
      ],
      "metadata": {
        "id": "LVyYw5MlzDYF",
        "outputId": "fbadf5d7-7e09-4b8a-82b3-4c355811d708",
        "colab": {
          "base_uri": "https://localhost:8080/",
          "height": 449
        }
      },
      "execution_count": null,
      "outputs": [
        {
          "output_type": "display_data",
          "data": {
            "text/plain": [
              "<Figure size 640x480 with 1 Axes>"
            ],
            "image/png": "[encoded data removed]"
          },
          "metadata": {}
        }
      ]
    },
    {
      "cell_type": "markdown",
      "metadata": {
        "id": "nbsGS9vLa-1R"
      },
      "source": [
        "**Copyright**\n",
        "\n",
        "The notebook is provided as [Open Educational Resource](https://de.wikipedia.org/wiki/Open_Educational_Resources). Feel free to use the notebook for your own educational purposes. The text is licensed under [Creative Commons Attribution 4.0](https://creativecommons.org/licenses/by/4.0/), the code of the IPython examples under the [MIT license](https://opensource.org/licenses/MIT). Please attribute the work as follows: *Signals and Systems* by Sascha Spors."
      ]
    }
  ]
}